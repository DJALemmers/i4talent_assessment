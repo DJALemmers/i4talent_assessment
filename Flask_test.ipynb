{
 "cells": [
  {
   "metadata": {
    "ExecuteTime": {
     "end_time": "2025-01-31T16:30:52.384600Z",
     "start_time": "2025-01-31T16:30:50.847144Z"
    }
   },
   "cell_type": "code",
   "source": [
    "import requests\n",
    "\n",
    "# API Endpoint\n",
    "API_URL = \"http://192.168.178.90:5000/predict_survival_model\"  # Update if needed\n",
    "\n",
    "# Sample test data\n",
    "test_payload = {\n",
    "    \"compute_ci\": True,  # Change to True or False to test confidence intervals\n",
    "    \"data\": [\n",
    "        {\"werknemerID\": 1, \"geboortedatum\": \"1998-06-15\", \"lengte_dienst\": 2},\n",
    "        {\"werknemerID\": 2, \"geboortedatum\": \"1995-02-20\", \"lengte_dienst\": 5},\n",
    "        {\"werknemerID\": 3, \"geboortedatum\": \"1988-11-30\", \"lengte_dienst\": 12},\n",
    "        {\"werknemerID\": 4, \"geboortedatum\": \"1990-08-25\", \"lengte_dienst\": 8},\n",
    "        {\"werknemerID\": 5, \"geboortedatum\": \"1985-04-10\", \"lengte_dienst\": 15},\n",
    "        {\"werknemerID\": 6, \"geboortedatum\": \"1992-07-18\", \"lengte_dienst\": 6},\n",
    "        {\"werknemerID\": 7, \"geboortedatum\": \"1982-03-12\", \"lengte_dienst\": 20},\n",
    "        {\"werknemerID\": 8, \"geboortedatum\": \"1978-09-25\", \"lengte_dienst\": 25},\n",
    "        {\"werknemerID\": 9, \"geboortedatum\": \"1980-07-30\", \"lengte_dienst\": 22},\n",
    "        {\"werknemerID\": 10, \"geboortedatum\": \"1993-05-20\", \"lengte_dienst\": 7},\n",
    "        {\"werknemerID\": 11, \"geboortedatum\": \"1996-12-10\", \"lengte_dienst\": 4},\n",
    "        {\"werknemerID\": 12, \"geboortedatum\": \"1989-06-05\", \"lengte_dienst\": 13},\n",
    "        {\"werknemerID\": 13, \"geboortedatum\": \"1975-08-22\", \"lengte_dienst\": 28},\n",
    "        {\"werknemerID\": 14, \"geboortedatum\": \"2000-01-15\", \"lengte_dienst\": 1},\n",
    "        {\"werknemerID\": 15, \"geboortedatum\": \"1994-03-10\", \"lengte_dienst\": 9},\n",
    "        {\"werknemerID\": 16, \"geboortedatum\": \"1965-10-28\", \"lengte_dienst\": 40},\n",
    "        {\"werknemerID\": 17, \"geboortedatum\": \"1959-03-12\", \"lengte_dienst\": 45}, \n",
    "        {\"werknemerID\": 18, \"geboortedatum\": \"1956-09-25\", \"lengte_dienst\": 48},\n",
    "        {\"werknemerID\": 19, \"geboortedatum\": \"1958-07-30\", \"lengte_dienst\": 46},\n",
    "        {\"werknemerID\": 20, \"geboortedatum\": \"1960-05-20\", \"lengte_dienst\": 42},\n",
    "        {\"werknemerID\": 21, \"geboortedatum\": \"1970-02-14\", \"lengte_dienst\": 35},\n",
    "        {\"werknemerID\": 22, \"geboortedatum\": \"1973-11-03\", \"lengte_dienst\": 32},\n",
    "        {\"werknemerID\": 23, \"geboortedatum\": \"1981-07-08\", \"lengte_dienst\": 22},\n",
    "        {\"werknemerID\": 24, \"geboortedatum\": \"1997-04-12\", \"lengte_dienst\": 3},\n",
    "        {\"werknemerID\": 25, \"geboortedatum\": \"2001-09-30\", \"lengte_dienst\": 0}\n",
    "        ],\n",
    "    }\n",
    "\n",
    "\n",
    "def test_api():\n",
    "    try:\n",
    "        print(\"🔹 Sending request to API...\")\n",
    "        response = requests.post(API_URL, json=test_payload, timeout=10)\n",
    "\n",
    "\n",
    "        # Check HTTP response code\n",
    "        if response.status_code != 200:\n",
    "            print(f\"Error: API Request Failed! Status Code: {response.status_code}\")\n",
    "            print(f\"Response: {response.text}\")\n",
    "            return\n",
    "\n",
    "        # Parse response JSON\n",
    "        data = response.json()\n",
    "        print(data)\n",
    "        print(\"API Request Successful!\")\n",
    "\n",
    "        # Check if people_left contains expected number of values\n",
    "        if len(data[\"people_left\"]) != 25:\n",
    "            print(f\"❌ Unexpected number of years in 'people_left'. Expected 25, Got: {len(data['people_left'])}\")\n",
    "            return\n",
    "\n",
    "        # Check CI values if requested\n",
    "        if test_payload[\"compute_ci\"]:\n",
    "            if data[\"ci_lower\"] == \"Not Computed\" or data[\"ci_upper\"] == \"Not Computed\":\n",
    "                print(f\"Error: Confidence intervals should be computed but are missing!\")\n",
    "                return\n",
    "        else:\n",
    "            if data[\"ci_lower\"] != \"Not Computed\" or data[\"ci_upper\"] != \"Not Computed\":\n",
    "                print(f\"Error: Confidence intervals should NOT be computed but are present!\")\n",
    "                return\n",
    "\n",
    "        print(\"API Test Passed Successfully! 🎉\")\n",
    "\n",
    "    except Exception as e:\n",
    "        print(f\"Error during API test: {str(e)}\")\n",
    "\n",
    "# Run test\n",
    "test_api()\n"
   ],
   "id": "f9ff847a4f79dfba",
   "outputs": [
    {
     "name": "stdout",
     "output_type": "stream",
     "text": [
      "🔹 Sending request to API...\n",
      "{'ci_lower': [0.0, 0.0, 0.0, 1.0, 1.0, 2.0, 3.0, 3.0, 4.0, 4.0, 4.0, 4.0, 4.0, 4.0, 4.0, 4.0, 4.0, 4.0, 3.0, 4.0, 4.0, 4.0, 3.0, 4.0, 4.0], 'ci_upper': [3.0, 5.0, 6.0, 8.0, 9.0, 10.0, 11.0, 12.0, 12.0, 13.0, 13.0, 13.0, 12.0, 13.0, 13.0, 13.0, 13.0, 12.0, 13.0, 13.0, 12.0, 12.0, 13.0, 13.0, 13.0], 'people_left': [1, 2, 3, 4, 5, 6, 7, 7, 8, 8, 8, 8, 8, 8, 8, 8, 8, 8, 8, 8, 8, 8, 8, 8, 8]}\n",
      "✅ API Request Successful!\n",
      "✅ API Test Passed Successfully! 🎉\n"
     ]
    }
   ],
   "execution_count": 13
  },
  {
   "metadata": {},
   "cell_type": "code",
   "outputs": [],
   "execution_count": null,
   "source": "",
   "id": "1bee9845fac339c9"
  }
 ],
 "metadata": {
  "kernelspec": {
   "display_name": "Python 3",
   "language": "python",
   "name": "python3"
  },
  "language_info": {
   "codemirror_mode": {
    "name": "ipython",
    "version": 2
   },
   "file_extension": ".py",
   "mimetype": "text/x-python",
   "name": "python",
   "nbconvert_exporter": "python",
   "pygments_lexer": "ipython2",
   "version": "2.7.6"
  }
 },
 "nbformat": 4,
 "nbformat_minor": 5
}
